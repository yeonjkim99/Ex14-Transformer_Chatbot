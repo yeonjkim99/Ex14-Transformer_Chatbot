{
 "cells": [
  {
   "cell_type": "markdown",
   "id": "fa82599a",
   "metadata": {},
   "source": [
    "# 14-14. 프로젝트: 한국어 데이터로 챗봇 만들기"
   ]
  },
  {
   "cell_type": "markdown",
   "id": "ec48eba3",
   "metadata": {},
   "source": [
    "## Step 0. 환경설정 및 라이브러리 Import"
   ]
  },
  {
   "cell_type": "code",
   "execution_count": 1,
   "id": "9922715d",
   "metadata": {},
   "outputs": [
    {
     "name": "stdout",
     "output_type": "stream",
     "text": [
      "2.6.0\n"
     ]
    }
   ],
   "source": [
    "import os\n",
    "import re\n",
    "import tensorflow as tf\n",
    "import tensorflow_datasets as tfds\n",
    "import numpy as np\n",
    "import pandas as pd \n",
    "import matplotlib.pyplot as plt\n",
    "from sklearn.model_selection import train_test_split\n",
    "\n",
    "print(tf.__version__)"
   ]
  },
  {
   "cell_type": "markdown",
   "id": "bd88cf94",
   "metadata": {},
   "source": [
    "## Step 1. 데이터 수집하기"
   ]
  },
  {
   "cell_type": "code",
   "execution_count": 2,
   "id": "f73cd1a4",
   "metadata": {},
   "outputs": [],
   "source": [
    "# ! mkdir -p ~/aiffel/transformer_chatbot/data/\n",
    "# ! ln -s ~/data/* ~/aiffel/transformer_chatbot/data/"
   ]
  },
  {
   "cell_type": "code",
   "execution_count": 3,
   "id": "62085443",
   "metadata": {},
   "outputs": [
    {
     "name": "stdout",
     "output_type": "stream",
     "text": [
      "전체 질문 수 : 11824\n",
      "전체 답변 수 : 11824\n",
      "질문 처음 5개\n",
      "['Q', '12시 땡!', '1지망 학교 떨어졌어', '3박4일 놀러가고 싶다', '3박4일 정도 놀러가고 싶다']\n",
      "질문 끝 5개\n",
      "['훔쳐보는 것도 눈치 보임.', '훔쳐보는 것도 눈치 보임.', '흑기사 해주는 짝남.', '힘든 연애 좋은 연애라는게 무슨 차이일까?', '힘들어서 결혼할까봐']\n",
      "답변 처음 5개\n",
      "['A', '하루가 또 가네요.', '위로해 드립니다.', '여행은 언제나 좋죠.', '여행은 언제나 좋죠.']\n",
      "답변 끝 5개\n",
      "['티가 나니까 눈치가 보이는 거죠!', '훔쳐보는 거 티나나봐요.', '설렜겠어요.', '잘 헤어질 수 있는 사이 여부인 거 같아요.', '도피성 결혼은 하지 않길 바라요.']\n"
     ]
    }
   ],
   "source": [
    "data_file_path = os.getenv('HOME') + '/aiffel/transformer_chatbot/data/'\n",
    "data_file = data_file_path + 'ChatbotData.csv'\n",
    "\n",
    "questions, answers = [], []\n",
    "with open(data_file,'r',encoding=\"utf-8\") as f:\n",
    "    for line in f.read().splitlines():\n",
    "        questions.append(line.split(',')[0:1][0])\n",
    "        answers.append(line.split(',')[1:2][0])\n",
    "\n",
    "print('전체 질문 수 :', len(questions))\n",
    "print('전체 답변 수 :', len(answers))\n",
    "print('질문 처음 5개')\n",
    "print(questions[:5])\n",
    "print('질문 끝 5개')\n",
    "print(questions[-5:])\n",
    "print('답변 처음 5개')\n",
    "print(answers[:5])\n",
    "print('답변 끝 5개')\n",
    "print(answers[-5:])"
   ]
  },
  {
   "cell_type": "markdown",
   "id": "1c9b1d6d",
   "metadata": {},
   "source": [
    "#### 테스트를 위해서 10%의 샘플을 분리해 둠"
   ]
  },
  {
   "cell_type": "code",
   "execution_count": 4,
   "id": "11c8004a",
   "metadata": {},
   "outputs": [
    {
     "name": "stdout",
     "output_type": "stream",
     "text": [
      "훈련 질문 수 : 10641\n",
      "훈련 답변 수 : 10641\n",
      "테스트 질문 수 : 1183\n",
      "테스트 답변 수 : 1183\n"
     ]
    }
   ],
   "source": [
    "questions, test_Q, answers, test_A = train_test_split(questions, answers, test_size=0.1, random_state=32)\n",
    "\n",
    "print('훈련 질문 수 :', len(questions))\n",
    "print('훈련 답변 수 :', len(answers))\n",
    "print('테스트 질문 수 :', len(test_Q))\n",
    "print('테스트 답변 수 :', len(test_A))"
   ]
  },
  {
   "cell_type": "markdown",
   "id": "dec225a1",
   "metadata": {},
   "source": [
    "## Step 2. 데이터 전처리하기"
   ]
  },
  {
   "cell_type": "code",
   "execution_count": 5,
   "id": "aeb2bd40",
   "metadata": {},
   "outputs": [
    {
     "name": "stdout",
     "output_type": "stream",
     "text": [
      "전체 질문 수 : 10640\n",
      "전체 답변 수 : 10640\n",
      "질문 처음 5개\n",
      "['나만 이상해졌어', '썸타는거 친구한테 이야기 한고 싶다.', '내가 생각했던 사람이 맞는지 확신이 안들어', '후폭풍이 올까 두려운데.!', '기차여행 가고 싶어']\n",
      "질문 끝 5개\n",
      "['저 좀 웃게 해주세요', '좋아하는 사람이 부담스러워할까봐 친구들 여럿이서 보는데.', '내가 좋아하는지 그 애가 아예 몰라.', '뭘 챙겨주면 좋을까', '잘 먹는 여자가 좋아']\n",
      "답변 처음 5개\n",
      "['그 말을 한 사람이 가장 이상할 거예요.', '확실해지면 이야기해도 늦지 않아요.', '새로운 모습을 봤나봐요.', '그냥 지금 우세요.', '꿈꾸던 여행이네요.']\n"
     ]
    }
   ],
   "source": [
    "# 첫번째 행 데이터는 column name 이므로 삭제\n",
    "del questions[0]\n",
    "del answers[0]\n",
    "\n",
    "print('전체 질문 수 :', len(questions))\n",
    "print('전체 답변 수 :', len(answers))\n",
    "print('질문 처음 5개')\n",
    "print(questions[:5])\n",
    "print('질문 끝 5개')\n",
    "print(questions[-5:])\n",
    "print('답변 처음 5개')\n",
    "print(answers[:5])"
   ]
  },
  {
   "cell_type": "markdown",
   "id": "8ce9bca6",
   "metadata": {},
   "source": [
    "#### 첫 행이 삭제되었다."
   ]
  },
  {
   "cell_type": "code",
   "execution_count": 6,
   "id": "b495ac76",
   "metadata": {},
   "outputs": [],
   "source": [
    "# 전처리 함수\n",
    "def preprocess_sentence(sentence):\n",
    "    # 단어와 구두점(punctuation) 사이의 거리를 만듭니다.\n",
    "    # 예를 들어서 \"여행은 언제나 좋죠.\" => \"여행은 언제나 좋죠 .\"와 같이 한칸 띄움\n",
    "    sentence = re.sub(r\"([?.!,])\", r\" \\1 \", sentence)\n",
    "    sentence = re.sub(r'\"', '', sentence)  # 쌍따옴표 \" 제거\n",
    "    sentence = re.sub(r'[\" \"]+', \" \", sentence)\n",
    "    sentence = sentence.strip()\n",
    "    return sentence"
   ]
  },
  {
   "cell_type": "code",
   "execution_count": 7,
   "id": "678a7cee",
   "metadata": {},
   "outputs": [
    {
     "name": "stdout",
     "output_type": "stream",
     "text": [
      "처리전 : S  이것은 \"컴퓨터\"라고   합니다.    E\n",
      "처리후 : S이것은 컴퓨터라고 합니다 .E\n"
     ]
    }
   ],
   "source": [
    "# 전처리 함수 테스트\n",
    "text = '  이것은 \"컴퓨터\"라고   합니다.    '\n",
    "print('처리전 : '+'S'+text+'E')\n",
    "print('처리후 : '+'S'+preprocess_sentence(text)+'E')"
   ]
  },
  {
   "cell_type": "markdown",
   "id": "6dfff388",
   "metadata": {},
   "source": [
    "#### 마침표가 본문에서 한칸 떨어졌고, 쌍따옴표(\")가 삭제되었으며, 여러개의 공백이 한개로 합쳐졌고, 문장 앞/뒤의 공백이 삭제되었다."
   ]
  },
  {
   "cell_type": "markdown",
   "id": "07d996d3",
   "metadata": {},
   "source": [
    "## Step 3. SubwordTextEncoder 사용하기"
   ]
  },
  {
   "cell_type": "code",
   "execution_count": 8,
   "id": "41797e69",
   "metadata": {},
   "outputs": [],
   "source": [
    "# 질문과 답변 데이터셋에 대해서 Vocabulary 생성\n",
    "tokenizer = tfds.deprecated.text.SubwordTextEncoder.build_from_corpus(questions + answers, target_vocab_size=2**13)"
   ]
  },
  {
   "cell_type": "code",
   "execution_count": 9,
   "id": "513cc1e8",
   "metadata": {},
   "outputs": [],
   "source": [
    "# 시작 토큰과 종료 토큰에 고유한 정수를 부여합니다.\n",
    "START_TOKEN, END_TOKEN = [tokenizer.vocab_size], [tokenizer.vocab_size + 1]"
   ]
  },
  {
   "cell_type": "code",
   "execution_count": 10,
   "id": "cbb20c39",
   "metadata": {},
   "outputs": [
    {
     "name": "stdout",
     "output_type": "stream",
     "text": [
      "START_TOKEN의 번호 : [7568]\n",
      "END_TOKEN의 번호 : [7569]\n"
     ]
    }
   ],
   "source": [
    "print('START_TOKEN의 번호 :' ,[tokenizer.vocab_size])\n",
    "print('END_TOKEN의 번호 :' ,[tokenizer.vocab_size + 1])"
   ]
  },
  {
   "cell_type": "code",
   "execution_count": 11,
   "id": "203ea19d",
   "metadata": {},
   "outputs": [
    {
     "name": "stdout",
     "output_type": "stream",
     "text": [
      "7570\n"
     ]
    }
   ],
   "source": [
    "# 시작 토큰과 종료 토큰을 고려하여 +2를 하여 단어장의 크기를 산정합니다.\n",
    "VOCAB_SIZE = tokenizer.vocab_size + 2\n",
    "print(VOCAB_SIZE)"
   ]
  },
  {
   "cell_type": "code",
   "execution_count": 12,
   "id": "8c9523ff",
   "metadata": {},
   "outputs": [
    {
     "name": "stdout",
     "output_type": "stream",
     "text": [
      "정수 인코딩 후의 21번째 질문 샘플: [637, 3308, 4909, 1012]\n",
      "정수 인코딩 후의 21번째 답변 샘플: [1903, 6001, 1, 7358]\n"
     ]
    }
   ],
   "source": [
    "# 임의의 22번째 샘플에 대해서 정수 인코딩 작업을 수행.\n",
    "# 각 토큰을 고유한 정수로 변환\n",
    "print('정수 인코딩 후의 21번째 질문 샘플: {}'.format(tokenizer.encode(questions[21])))\n",
    "print('정수 인코딩 후의 21번째 답변 샘플: {}'.format(tokenizer.encode(answers[21])))"
   ]
  },
  {
   "cell_type": "markdown",
   "id": "a54029ad",
   "metadata": {},
   "source": [
    "#### 샘플의 최대 길이 정하기"
   ]
  },
  {
   "cell_type": "code",
   "execution_count": 13,
   "id": "bd079f7b",
   "metadata": {},
   "outputs": [
    {
     "name": "stdout",
     "output_type": "stream",
     "text": [
      "질문의 최소 길이 : 1\n",
      "질문의 최대 길이 : 15\n",
      "질문의 평균 길이 : 3.5717105263157896\n",
      "답변의 최소 길이 : 0\n",
      "답변의 최대 길이 : 21\n",
      "답변의 평균 길이 : 3.6795112781954886\n"
     ]
    },
    {
     "data": {
      "image/png": "[encoded data removed]",
      "text/plain": [
       "<Figure size 432x288 with 2 Axes>"
      ]
     },
     "metadata": {
      "needs_background": "light"
     },
     "output_type": "display_data"
    },
    {
     "data": {
      "image/png": "[encoded data removed]",
      "text/plain": [
       "<Figure size 432x288 with 1 Axes>"
      ]
     },
     "metadata": {
      "needs_background": "light"
     },
     "output_type": "display_data"
    },
    {
     "data": {
      "image/png": "[encoded data removed]",
      "text/plain": [
       "<Figure size 432x288 with 1 Axes>"
      ]
     },
     "metadata": {
      "needs_background": "light"
     },
     "output_type": "display_data"
    }
   ],
   "source": [
    "# 길이 분포 출력\n",
    "\n",
    "questions_len = [len(s.split()) for s in questions]\n",
    "answers_len = [len(s.split()) for s in answers]\n",
    "\n",
    "print('질문의 최소 길이 : {}'.format(np.min(questions_len)))\n",
    "print('질문의 최대 길이 : {}'.format(np.max(questions_len)))\n",
    "print('질문의 평균 길이 : {}'.format(np.mean(questions_len)))\n",
    "print('답변의 최소 길이 : {}'.format(np.min(answers_len)))\n",
    "print('답변의 최대 길이 : {}'.format(np.max(answers_len)))\n",
    "print('답변의 평균 길이 : {}'.format(np.mean(answers_len)))\n",
    "\n",
    "plt.subplot(1,2,1)\n",
    "plt.boxplot(questions_len)\n",
    "plt.title('questions')\n",
    "plt.subplot(1,2,2)\n",
    "plt.boxplot(answers_len)\n",
    "plt.title('answers')\n",
    "plt.tight_layout()\n",
    "plt.show()\n",
    "\n",
    "plt.title('questions')\n",
    "plt.hist(questions_len, bins = 40)\n",
    "plt.xlabel('length of samples')\n",
    "plt.ylabel('number of samples')\n",
    "plt.show()\n",
    "\n",
    "plt.title('answers')\n",
    "plt.hist(answers_len, bins = 40)\n",
    "plt.xlabel('length of samples')\n",
    "plt.ylabel('number of samples')\n",
    "plt.show()"
   ]
  },
  {
   "cell_type": "code",
   "execution_count": 14,
   "id": "ecbf9978",
   "metadata": {},
   "outputs": [],
   "source": [
    "# 샘플의 최대 허용 길이 또는 패딩 후의 최종 길이\n",
    "# 위 boxplot 참조, questions 7, answers 9 중 큰 9를 선택\n",
    "MAX_LENGTH = 9"
   ]
  },
  {
   "cell_type": "code",
   "execution_count": 15,
   "id": "76fd9887",
   "metadata": {},
   "outputs": [
    {
     "name": "stdout",
     "output_type": "stream",
     "text": [
      "전체 샘플 중 길이가 9 이하인 샘플의 비율: 0.9889097744360902\n"
     ]
    }
   ],
   "source": [
    "cnt = 0\n",
    "for s in answers:\n",
    "    if(len(s.split()) <= MAX_LENGTH):\n",
    "        cnt = cnt + 1\n",
    "print('전체 샘플 중 길이가 %s 이하인 샘플의 비율: %s'%(MAX_LENGTH, (cnt / len(answers))))"
   ]
  },
  {
   "cell_type": "code",
   "execution_count": 16,
   "id": "bdae2bfa",
   "metadata": {},
   "outputs": [],
   "source": [
    "# 정수 인코딩, 최대 길이를 초과하는 샘플 제거, 패딩\n",
    "def tokenize_and_filter(inputs, outputs):\n",
    "    tokenized_inputs, tokenized_outputs = [], []\n",
    "  \n",
    "    for (sentence1, sentence2) in zip(inputs, outputs):\n",
    "        # 정수 인코딩 과정에서 시작 토큰과 종료 토큰을 추가\n",
    "        sentence1 = START_TOKEN + tokenizer.encode(sentence1) + END_TOKEN\n",
    "        sentence2 = START_TOKEN + tokenizer.encode(sentence2) + END_TOKEN\n",
    "\n",
    "        # 최대 길이 MAX_LENGTH 이하인 경우에만 데이터셋으로 허용\n",
    "        if len(sentence1) <= MAX_LENGTH and len(sentence2) <= MAX_LENGTH:\n",
    "            tokenized_inputs.append(sentence1)\n",
    "            tokenized_outputs.append(sentence2)\n",
    "  \n",
    "    # 최대 길이 MAX_LENGTH로 모든 데이터셋을 패딩\n",
    "    tokenized_inputs = tf.keras.preprocessing.sequence.pad_sequences(\n",
    "        tokenized_inputs, maxlen=MAX_LENGTH, padding='post')\n",
    "    tokenized_outputs = tf.keras.preprocessing.sequence.pad_sequences(\n",
    "        tokenized_outputs, maxlen=MAX_LENGTH, padding='post')\n",
    "  \n",
    "    return tokenized_inputs, tokenized_outputs"
   ]
  },
  {
   "cell_type": "code",
   "execution_count": 17,
   "id": "1b73ff64",
   "metadata": {},
   "outputs": [
    {
     "name": "stdout",
     "output_type": "stream",
     "text": [
      "단어장의 크기 : 7570\n",
      "필터링 후의 질문 샘플 개수: 6916\n",
      "필터링 후의 답변 샘플 개수: 6916\n"
     ]
    }
   ],
   "source": [
    "questions, answers = tokenize_and_filter(questions, answers)\n",
    "print('단어장의 크기 :',(VOCAB_SIZE))\n",
    "print('필터링 후의 질문 샘플 개수: {}'.format(len(questions)))\n",
    "print('필터링 후의 답변 샘플 개수: {}'.format(len(answers)))"
   ]
  },
  {
   "cell_type": "code",
   "execution_count": 18,
   "id": "cd013eac",
   "metadata": {},
   "outputs": [],
   "source": [
    "BATCH_SIZE = 64\n",
    "BUFFER_SIZE = 20000\n",
    "\n",
    "# 디코더는 이전의 target을 다음의 input으로 사용합니다.\n",
    "# 이에 따라 outputs에서는 START_TOKEN을 제거하겠습니다.\n",
    "dataset = tf.data.Dataset.from_tensor_slices((\n",
    "    {\n",
    "        'inputs': questions,\n",
    "        'dec_inputs': answers[:, :-1]\n",
    "    },\n",
    "    {\n",
    "        'outputs': answers[:, 1:]\n",
    "    },\n",
    "))\n",
    "\n",
    "dataset = dataset.cache()\n",
    "dataset = dataset.shuffle(BUFFER_SIZE)\n",
    "dataset = dataset.batch(BATCH_SIZE)\n",
    "dataset = dataset.prefetch(tf.data.experimental.AUTOTUNE)"
   ]
  },
  {
   "cell_type": "markdown",
   "id": "b33d4d1f",
   "metadata": {},
   "source": [
    "## Step 4. 모델 구성하기"
   ]
  },
  {
   "cell_type": "markdown",
   "id": "6ee88769",
   "metadata": {},
   "source": [
    "### 4-1. 어텐션"
   ]
  },
  {
   "cell_type": "code",
   "execution_count": 19,
   "id": "31b81c40",
   "metadata": {},
   "outputs": [],
   "source": [
    "# 스케일드 닷 프로덕트 어텐션 함수\n",
    "def scaled_dot_product_attention(query, key, value, mask):\n",
    "    # 어텐션 가중치는 Q와 K의 닷 프로덕트\n",
    "    matmul_qk = tf.matmul(query, key, transpose_b=True)\n",
    "\n",
    "    # 가중치를 정규화\n",
    "    depth = tf.cast(tf.shape(key)[-1], tf.float32)\n",
    "    logits = matmul_qk / tf.math.sqrt(depth)\n",
    "\n",
    "    # 패딩에 마스크 추가\n",
    "    if mask is not None:\n",
    "        logits += (mask * -1e9)\n",
    "\n",
    "    # softmax적용\n",
    "    attention_weights = tf.nn.softmax(logits, axis=-1)\n",
    "\n",
    "    # 최종 어텐션은 가중치와 V의 닷 프로덕트\n",
    "    output = tf.matmul(attention_weights, value)\n",
    "    return output"
   ]
  },
  {
   "cell_type": "code",
   "execution_count": 20,
   "id": "c4f7a366",
   "metadata": {},
   "outputs": [],
   "source": [
    "class MultiHeadAttention(tf.keras.layers.Layer):\n",
    "\n",
    "    def __init__(self, d_model, num_heads, name=\"multi_head_attention\"):\n",
    "        super(MultiHeadAttention, self).__init__(name=name)\n",
    "        self.num_heads = num_heads\n",
    "        self.d_model = d_model\n",
    "\n",
    "        assert d_model % self.num_heads == 0\n",
    "\n",
    "        self.depth = d_model // self.num_heads\n",
    "\n",
    "        self.query_dense = tf.keras.layers.Dense(units=d_model)\n",
    "        self.key_dense = tf.keras.layers.Dense(units=d_model)\n",
    "        self.value_dense = tf.keras.layers.Dense(units=d_model)\n",
    "\n",
    "        self.dense = tf.keras.layers.Dense(units=d_model)\n",
    "\n",
    "    def split_heads(self, inputs, batch_size):\n",
    "        inputs = tf.reshape(\n",
    "            inputs, shape=(batch_size, -1, self.num_heads, self.depth))\n",
    "        return tf.transpose(inputs, perm=[0, 2, 1, 3])\n",
    "\n",
    "    def call(self, inputs):\n",
    "        query, key, value, mask = inputs['query'], inputs['key'], inputs[\n",
    "            'value'], inputs['mask']\n",
    "        batch_size = tf.shape(query)[0]\n",
    "\n",
    "        # Q, K, V에 각각 Dense를 적용합니다\n",
    "        query = self.query_dense(query)\n",
    "        key = self.key_dense(key)\n",
    "        value = self.value_dense(value)\n",
    "\n",
    "        # 병렬 연산을 위한 머리를 여러 개 만듭니다\n",
    "        query = self.split_heads(query, batch_size)\n",
    "        key = self.split_heads(key, batch_size)\n",
    "        value = self.split_heads(value, batch_size)\n",
    "\n",
    "        # 스케일드 닷 프로덕트 어텐션 함수\n",
    "        scaled_attention = scaled_dot_product_attention(query, key, value, mask)\n",
    "\n",
    "        scaled_attention = tf.transpose(scaled_attention, perm=[0, 2, 1, 3])\n",
    "\n",
    "        # 어텐션 연산 후에 각 결과를 다시 연결(concatenate)합니다\n",
    "        concat_attention = tf.reshape(scaled_attention,\n",
    "                                      (batch_size, -1, self.d_model))\n",
    "\n",
    "        # 최종 결과에도 Dense를 한 번 더 적용합니다\n",
    "        outputs = self.dense(concat_attention)\n",
    "\n",
    "        return outputs"
   ]
  },
  {
   "cell_type": "markdown",
   "id": "4f9fa0fa",
   "metadata": {},
   "source": [
    "### 4-2. 마스킹"
   ]
  },
  {
   "cell_type": "code",
   "execution_count": 21,
   "id": "8da9c69c",
   "metadata": {},
   "outputs": [],
   "source": [
    "# 다음은 패딩 마스킹을 구현한 함수입니다.\n",
    "def create_padding_mask(x):\n",
    "    mask = tf.cast(tf.math.equal(x, 0), tf.float32)\n",
    "    # (batch_size, 1, 1, sequence length)\n",
    "    return mask[:, tf.newaxis, tf.newaxis, :]\n",
    "\n",
    "def create_look_ahead_mask(x):\n",
    "    seq_len = tf.shape(x)[1]\n",
    "    look_ahead_mask = 1 - tf.linalg.band_part(tf.ones((seq_len, seq_len)), -1, 0)\n",
    "    padding_mask = create_padding_mask(x)\n",
    "    return tf.maximum(look_ahead_mask, padding_mask)"
   ]
  },
  {
   "cell_type": "markdown",
   "id": "323606cc",
   "metadata": {},
   "source": [
    "### 4-3. 인코더"
   ]
  },
  {
   "cell_type": "code",
   "execution_count": 22,
   "id": "ad343168",
   "metadata": {},
   "outputs": [],
   "source": [
    "# 포지셔널 인코딩 레이어\n",
    "class PositionalEncoding(tf.keras.layers.Layer):\n",
    "\n",
    "    def __init__(self, position, d_model):\n",
    "        super(PositionalEncoding, self).__init__()\n",
    "        self.pos_encoding = self.positional_encoding(position, d_model)\n",
    "\n",
    "    def get_angles(self, position, i, d_model):\n",
    "        angles = 1 / tf.pow(10000, (2 * (i // 2)) / tf.cast(d_model, tf.float32))\n",
    "        return position * angles\n",
    "\n",
    "    def positional_encoding(self, position, d_model):\n",
    "        # 각도 배열 생성\n",
    "        angle_rads = self.get_angles(\n",
    "            position=tf.range(position, dtype=tf.float32)[:, tf.newaxis],\n",
    "            i=tf.range(d_model, dtype=tf.float32)[tf.newaxis, :],\n",
    "            d_model=d_model)\n",
    "\n",
    "        # 배열의 짝수 인덱스에는 sin 함수 적용\n",
    "        sines = tf.math.sin(angle_rads[:, 0::2])\n",
    "        # 배열의 홀수 인덱스에는 cosine 함수 적용\n",
    "        cosines = tf.math.cos(angle_rads[:, 1::2])\n",
    "\n",
    "        # sin과 cosine이 교차되도록 재배열\n",
    "        pos_encoding = tf.stack([sines, cosines], axis=0)\n",
    "        pos_encoding = tf.transpose(pos_encoding,[1, 2, 0]) \n",
    "        pos_encoding = tf.reshape(pos_encoding, [position, d_model])\n",
    "\n",
    "        pos_encoding = pos_encoding[tf.newaxis, ...]\n",
    "        return tf.cast(pos_encoding, tf.float32)\n",
    "\n",
    "    def call(self, inputs):\n",
    "        return inputs + self.pos_encoding[:, :tf.shape(inputs)[1], :]"
   ]
  },
  {
   "cell_type": "code",
   "execution_count": 23,
   "id": "8a63c224",
   "metadata": {},
   "outputs": [],
   "source": [
    "# 인코더 하나의 레이어를 함수로 구현.\n",
    "# 이 하나의 레이어 안에는 두 개의 서브 레이어가 존재합니다.\n",
    "def encoder_layer(units, d_model, num_heads, dropout, name=\"encoder_layer\"):\n",
    "    inputs = tf.keras.Input(shape=(None, d_model), name=\"inputs\")\n",
    "\n",
    "    # 패딩 마스크 사용\n",
    "    padding_mask = tf.keras.Input(shape=(1, 1, None), name=\"padding_mask\")\n",
    "\n",
    "    # 첫 번째 서브 레이어 : 멀티 헤드 어텐션 수행 (셀프 어텐션)\n",
    "    attention = MultiHeadAttention(\n",
    "        d_model, num_heads, name=\"attention\")({\n",
    "            'query': inputs,\n",
    "            'key': inputs,\n",
    "            'value': inputs,\n",
    "            'mask': padding_mask\n",
    "        })\n",
    "\n",
    "    # 어텐션의 결과는 Dropout과 Layer Normalization이라는 훈련을 돕는 테크닉을 수행\n",
    "    attention = tf.keras.layers.Dropout(rate=dropout)(attention)\n",
    "    attention = tf.keras.layers.LayerNormalization(\n",
    "        epsilon=1e-6)(inputs + attention)\n",
    "\n",
    "    # 두 번째 서브 레이어 : 2개의 완전연결층\n",
    "    outputs = tf.keras.layers.Dense(units=units, activation='relu')(attention)\n",
    "    outputs = tf.keras.layers.Dense(units=d_model)(outputs)\n",
    "\n",
    "    # 완전연결층의 결과는 Dropout과 LayerNormalization이라는 훈련을 돕는 테크닉을 수행\n",
    "    outputs = tf.keras.layers.Dropout(rate=dropout)(outputs)\n",
    "    outputs = tf.keras.layers.LayerNormalization(\n",
    "        epsilon=1e-6)(attention + outputs)\n",
    "\n",
    "    return tf.keras.Model(\n",
    "        inputs=[inputs, padding_mask], outputs=outputs, name=name)"
   ]
  },
  {
   "cell_type": "code",
   "execution_count": 24,
   "id": "de56be56",
   "metadata": {},
   "outputs": [],
   "source": [
    "def encoder(vocab_size,\n",
    "            num_layers,\n",
    "            units,\n",
    "            d_model,\n",
    "            num_heads,\n",
    "            dropout,\n",
    "            name=\"encoder\"):\n",
    "    inputs = tf.keras.Input(shape=(None,), name=\"inputs\")\n",
    "\n",
    "    # 패딩 마스크 사용\n",
    "    padding_mask = tf.keras.Input(shape=(1, 1, None), name=\"padding_mask\")\n",
    "\n",
    "    # 임베딩 레이어\n",
    "    embeddings = tf.keras.layers.Embedding(vocab_size, d_model)(inputs)\n",
    "    embeddings *= tf.math.sqrt(tf.cast(d_model, tf.float32))\n",
    "\n",
    "    # 포지셔널 인코딩\n",
    "    embeddings = PositionalEncoding(vocab_size, d_model)(embeddings)\n",
    "\n",
    "    outputs = tf.keras.layers.Dropout(rate=dropout)(embeddings)\n",
    "\n",
    "    # num_layers만큼 쌓아올린 인코더의 층.\n",
    "    for i in range(num_layers):\n",
    "        outputs = encoder_layer(\n",
    "            units=units,\n",
    "            d_model=d_model,\n",
    "            num_heads=num_heads,\n",
    "            dropout=dropout,\n",
    "            name=\"encoder_layer_{}\".format(i),\n",
    "        )([outputs, padding_mask])\n",
    "\n",
    "    return tf.keras.Model(\n",
    "        inputs=[inputs, padding_mask], outputs=outputs, name=name)"
   ]
  },
  {
   "cell_type": "markdown",
   "id": "967b2638",
   "metadata": {},
   "source": [
    "### 4-4. 디코더"
   ]
  },
  {
   "cell_type": "code",
   "execution_count": 25,
   "id": "6995b265",
   "metadata": {},
   "outputs": [],
   "source": [
    "# 디코더 하나의 레이어를 함수로 구현.\n",
    "# 이 하나의 레이어 안에는 세 개의 서브 레이어가 존재합니다.\n",
    "def decoder_layer(units, d_model, num_heads, dropout, name=\"decoder_layer\"):\n",
    "    inputs = tf.keras.Input(shape=(None, d_model), name=\"inputs\")\n",
    "    enc_outputs = tf.keras.Input(shape=(None, d_model), name=\"encoder_outputs\")\n",
    "    look_ahead_mask = tf.keras.Input(\n",
    "        shape=(1, None, None), name=\"look_ahead_mask\")\n",
    "    padding_mask = tf.keras.Input(shape=(1, 1, None), name='padding_mask')\n",
    "\n",
    "    # 첫 번째 서브 레이어 : 멀티 헤드 어텐션 수행 (셀프 어텐션)\n",
    "    attention1 = MultiHeadAttention(\n",
    "        d_model, num_heads, name=\"attention_1\")(inputs={\n",
    "            'query': inputs,\n",
    "            'key': inputs,\n",
    "            'value': inputs,\n",
    "            'mask': look_ahead_mask\n",
    "        })\n",
    "\n",
    "    # 멀티 헤드 어텐션의 결과는 LayerNormalization이라는 훈련을 돕는 테크닉을 수행\n",
    "    attention1 = tf.keras.layers.LayerNormalization(\n",
    "        epsilon=1e-6)(attention1 + inputs)\n",
    "\n",
    "    # 두 번째 서브 레이어 : 마스크드 멀티 헤드 어텐션 수행 (인코더-디코더 어텐션)\n",
    "    attention2 = MultiHeadAttention(\n",
    "        d_model, num_heads, name=\"attention_2\")(inputs={\n",
    "            'query': attention1,\n",
    "            'key': enc_outputs,\n",
    "            'value': enc_outputs,\n",
    "            'mask': padding_mask\n",
    "        })\n",
    "\n",
    "    # 마스크드 멀티 헤드 어텐션의 결과는\n",
    "    # Dropout과 LayerNormalization이라는 훈련을 돕는 테크닉을 수행\n",
    "    attention2 = tf.keras.layers.Dropout(rate=dropout)(attention2)\n",
    "    attention2 = tf.keras.layers.LayerNormalization(\n",
    "        epsilon=1e-6)(attention2 + attention1)\n",
    "\n",
    "    # 세 번째 서브 레이어 : 2개의 완전연결층\n",
    "    outputs = tf.keras.layers.Dense(units=units, activation='relu')(attention2)\n",
    "    outputs = tf.keras.layers.Dense(units=d_model)(outputs)\n",
    "\n",
    "    # 완전연결층의 결과는 Dropout과 LayerNormalization 수행\n",
    "    outputs = tf.keras.layers.Dropout(rate=dropout)(outputs)\n",
    "    outputs = tf.keras.layers.LayerNormalization(\n",
    "        epsilon=1e-6)(outputs + attention2)\n",
    "\n",
    "    return tf.keras.Model(\n",
    "        inputs=[inputs, enc_outputs, look_ahead_mask, padding_mask],\n",
    "        outputs=outputs,\n",
    "        name=name)"
   ]
  },
  {
   "cell_type": "code",
   "execution_count": 26,
   "id": "3f2d8a44",
   "metadata": {},
   "outputs": [],
   "source": [
    "def decoder(vocab_size,\n",
    "            num_layers,\n",
    "            units,\n",
    "            d_model,\n",
    "            num_heads,\n",
    "            dropout,\n",
    "            name='decoder'):\n",
    "    inputs = tf.keras.Input(shape=(None,), name='inputs')\n",
    "    enc_outputs = tf.keras.Input(shape=(None, d_model), name='encoder_outputs')\n",
    "    look_ahead_mask = tf.keras.Input(\n",
    "        shape=(1, None, None), name='look_ahead_mask')\n",
    "\n",
    "    # 패딩 마스크\n",
    "    padding_mask = tf.keras.Input(shape=(1, 1, None), name='padding_mask')\n",
    "  \n",
    "    # 임베딩 레이어\n",
    "    embeddings = tf.keras.layers.Embedding(vocab_size, d_model)(inputs)\n",
    "    embeddings *= tf.math.sqrt(tf.cast(d_model, tf.float32))\n",
    "\n",
    "    # 포지셔널 인코딩\n",
    "    embeddings = PositionalEncoding(vocab_size, d_model)(embeddings)\n",
    "\n",
    "    # Dropout이라는 훈련을 돕는 테크닉을 수행\n",
    "    outputs = tf.keras.layers.Dropout(rate=dropout)(embeddings)\n",
    "\n",
    "    for i in range(num_layers):\n",
    "        outputs = decoder_layer(\n",
    "            units=units,\n",
    "            d_model=d_model,\n",
    "            num_heads=num_heads,\n",
    "            dropout=dropout,\n",
    "            name='decoder_layer_{}'.format(i),\n",
    "        )(inputs=[outputs, enc_outputs, look_ahead_mask, padding_mask])\n",
    "\n",
    "    return tf.keras.Model(\n",
    "        inputs=[inputs, enc_outputs, look_ahead_mask, padding_mask],\n",
    "        outputs=outputs,\n",
    "        name=name)"
   ]
  },
  {
   "cell_type": "markdown",
   "id": "5e5f72aa",
   "metadata": {},
   "source": [
    "### 4-5. Transformer 함수 정의"
   ]
  },
  {
   "cell_type": "code",
   "execution_count": 27,
   "id": "def6a23b",
   "metadata": {},
   "outputs": [],
   "source": [
    "def transformer(vocab_size,\n",
    "                num_layers,\n",
    "                units,\n",
    "                d_model,\n",
    "                num_heads,\n",
    "                dropout,\n",
    "                name=\"transformer\"):\n",
    "    inputs = tf.keras.Input(shape=(None,), name=\"inputs\")\n",
    "    dec_inputs = tf.keras.Input(shape=(None,), name=\"dec_inputs\")\n",
    "\n",
    "    # 인코더에서 패딩을 위한 마스크\n",
    "    enc_padding_mask = tf.keras.layers.Lambda(\n",
    "        create_padding_mask, output_shape=(1, 1, None),\n",
    "        name='enc_padding_mask')(inputs)\n",
    "\n",
    "    # 디코더에서 미래의 토큰을 마스크 하기 위해서 사용합니다.\n",
    "    # 내부적으로 패딩 마스크도 포함되어져 있습니다.\n",
    "    look_ahead_mask = tf.keras.layers.Lambda(\n",
    "        create_look_ahead_mask,\n",
    "        output_shape=(1, None, None),\n",
    "        name='look_ahead_mask')(dec_inputs)\n",
    "\n",
    "    # 두 번째 어텐션 블록에서 인코더의 벡터들을 마스킹\n",
    "    # 디코더에서 패딩을 위한 마스크\n",
    "    dec_padding_mask = tf.keras.layers.Lambda(\n",
    "        create_padding_mask, output_shape=(1, 1, None),\n",
    "        name='dec_padding_mask')(inputs)\n",
    "\n",
    "    # 인코더\n",
    "    enc_outputs = encoder(\n",
    "        vocab_size=vocab_size,\n",
    "        num_layers=num_layers,\n",
    "        units=units,\n",
    "        d_model=d_model,\n",
    "        num_heads=num_heads,\n",
    "        dropout=dropout,\n",
    "    )(inputs=[inputs, enc_padding_mask])\n",
    "\n",
    "    # 디코더\n",
    "    dec_outputs = decoder(\n",
    "        vocab_size=vocab_size,\n",
    "        num_layers=num_layers,\n",
    "        units=units,\n",
    "        d_model=d_model,\n",
    "        num_heads=num_heads,\n",
    "        dropout=dropout,\n",
    "    )(inputs=[dec_inputs, enc_outputs, look_ahead_mask, dec_padding_mask])\n",
    "\n",
    "    # 완전연결층\n",
    "    outputs = tf.keras.layers.Dense(units=vocab_size, name=\"outputs\")(dec_outputs)\n",
    "\n",
    "    return tf.keras.Model(inputs=[inputs, dec_inputs], outputs=outputs, name=name)"
   ]
  },
  {
   "cell_type": "markdown",
   "id": "6f6c6947",
   "metadata": {},
   "source": [
    "### 4-6. 모델 생성"
   ]
  },
  {
   "cell_type": "code",
   "execution_count": 28,
   "id": "2f5e4a75",
   "metadata": {},
   "outputs": [
    {
     "name": "stdout",
     "output_type": "stream",
     "text": [
      "Model: \"transformer\"\n",
      "__________________________________________________________________________________________________\n",
      "Layer (type)                    Output Shape         Param #     Connected to                     \n",
      "==================================================================================================\n",
      "inputs (InputLayer)             [(None, None)]       0                                            \n",
      "__________________________________________________________________________________________________\n",
      "dec_inputs (InputLayer)         [(None, None)]       0                                            \n",
      "__________________________________________________________________________________________________\n",
      "enc_padding_mask (Lambda)       (None, 1, 1, None)   0           inputs[0][0]                     \n",
      "__________________________________________________________________________________________________\n",
      "encoder (Functional)            (None, None, 256)    2992128     inputs[0][0]                     \n",
      "                                                                 enc_padding_mask[0][0]           \n",
      "__________________________________________________________________________________________________\n",
      "look_ahead_mask (Lambda)        (None, 1, None, None 0           dec_inputs[0][0]                 \n",
      "__________________________________________________________________________________________________\n",
      "dec_padding_mask (Lambda)       (None, 1, 1, None)   0           inputs[0][0]                     \n",
      "__________________________________________________________________________________________________\n",
      "decoder (Functional)            (None, None, 256)    3519488     dec_inputs[0][0]                 \n",
      "                                                                 encoder[0][0]                    \n",
      "                                                                 look_ahead_mask[0][0]            \n",
      "                                                                 dec_padding_mask[0][0]           \n",
      "__________________________________________________________________________________________________\n",
      "outputs (Dense)                 (None, None, 7570)   1945490     decoder[0][0]                    \n",
      "==================================================================================================\n",
      "Total params: 8,457,106\n",
      "Trainable params: 8,457,106\n",
      "Non-trainable params: 0\n",
      "__________________________________________________________________________________________________\n"
     ]
    }
   ],
   "source": [
    "tf.keras.backend.clear_session()\n",
    "\n",
    "# 하이퍼파라미터\n",
    "NUM_LAYERS = 2  # 인코더와 디코더의 층의 개수\n",
    "D_MODEL = 256   # 인코더와 디코더 내부의 입, 출력의 고정 차원\n",
    "NUM_HEADS = 16  # 멀티 헤드 어텐션에서의 헤드 수 \n",
    "UNITS = 512     # 피드 포워드 신경망의 은닉층의 크기\n",
    "DROPOUT = 0.0   # 드롭아웃의 비율\n",
    "\n",
    "model = transformer(vocab_size=VOCAB_SIZE,\n",
    "                    num_layers=NUM_LAYERS,\n",
    "                    units=UNITS,\n",
    "                    d_model=D_MODEL,\n",
    "                    num_heads=NUM_HEADS,\n",
    "                    dropout=DROPOUT)\n",
    "\n",
    "model.summary()"
   ]
  },
  {
   "cell_type": "markdown",
   "id": "bc6f0f99",
   "metadata": {},
   "source": [
    "### 4-7. 손실 함수(Loss function) 작성"
   ]
  },
  {
   "cell_type": "code",
   "execution_count": 29,
   "id": "e5b9f6d2",
   "metadata": {},
   "outputs": [],
   "source": [
    "def loss_function(y_true, y_pred):\n",
    "    y_true = tf.reshape(y_true, shape=(-1, MAX_LENGTH - 1))\n",
    "  \n",
    "    loss = tf.keras.losses.SparseCategoricalCrossentropy(\n",
    "        from_logits=True, reduction='none')(y_true, y_pred)\n",
    "\n",
    "    mask = tf.cast(tf.not_equal(y_true, 0), tf.float32)\n",
    "    loss = tf.multiply(loss, mask)\n",
    "\n",
    "    return tf.reduce_mean(loss)"
   ]
  },
  {
   "cell_type": "markdown",
   "id": "9412516d",
   "metadata": {},
   "source": [
    "### 4-8. 커스텀 된 학습률(Learning rate)"
   ]
  },
  {
   "cell_type": "code",
   "execution_count": 30,
   "id": "947ecab9",
   "metadata": {},
   "outputs": [],
   "source": [
    "class CustomSchedule(tf.keras.optimizers.schedules.LearningRateSchedule):\n",
    "\n",
    "    def __init__(self, d_model, warmup_steps=4000):\n",
    "        super(CustomSchedule, self).__init__()\n",
    "\n",
    "        self.d_model = d_model\n",
    "        self.d_model = tf.cast(self.d_model, tf.float32)\n",
    "\n",
    "        self.warmup_steps = warmup_steps\n",
    "\n",
    "    def __call__(self, step):\n",
    "        arg1 = tf.math.rsqrt(step)\n",
    "        arg2 = step * (self.warmup_steps**-1.5)\n",
    "\n",
    "        return tf.math.rsqrt(self.d_model) * tf.math.minimum(arg1, arg2)"
   ]
  },
  {
   "cell_type": "markdown",
   "id": "17e3b22e",
   "metadata": {},
   "source": [
    "### 4-9. 모델 컴파일"
   ]
  },
  {
   "cell_type": "code",
   "execution_count": 31,
   "id": "b3a16b62",
   "metadata": {},
   "outputs": [],
   "source": [
    "learning_rate = CustomSchedule(D_MODEL)\n",
    "\n",
    "optimizer = tf.keras.optimizers.Adam(\n",
    "    learning_rate, beta_1=0.9, beta_2=0.98, epsilon=1e-9)\n",
    "\n",
    "def accuracy(y_true, y_pred):\n",
    "    y_true = tf.reshape(y_true, shape=(-1, MAX_LENGTH - 1))\n",
    "    return tf.keras.metrics.sparse_categorical_accuracy(y_true, y_pred)\n",
    "\n",
    "model.compile(optimizer=optimizer, loss=loss_function, metrics=[accuracy])"
   ]
  },
  {
   "cell_type": "markdown",
   "id": "01240d31",
   "metadata": {},
   "source": [
    "### 4-10. 훈련하기"
   ]
  },
  {
   "cell_type": "code",
   "execution_count": 32,
   "id": "b04488b4",
   "metadata": {},
   "outputs": [
    {
     "name": "stdout",
     "output_type": "stream",
     "text": [
      "Epoch 1/50\n",
      "109/109 [==============================] - 9s 25ms/step - loss: 5.9904 - accuracy: 0.1155\n",
      "Epoch 2/50\n",
      "109/109 [==============================] - 3s 24ms/step - loss: 5.2068 - accuracy: 0.2365\n",
      "Epoch 3/50\n",
      "109/109 [==============================] - 3s 24ms/step - loss: 4.4761 - accuracy: 0.2372\n",
      "Epoch 4/50\n",
      "109/109 [==============================] - 3s 24ms/step - loss: 3.9139 - accuracy: 0.2415\n",
      "Epoch 5/50\n",
      "109/109 [==============================] - 3s 25ms/step - loss: 3.5463 - accuracy: 0.2491\n",
      "Epoch 6/50\n",
      "109/109 [==============================] - 3s 24ms/step - loss: 3.2860 - accuracy: 0.2625\n",
      "Epoch 7/50\n",
      "109/109 [==============================] - 3s 25ms/step - loss: 3.0360 - accuracy: 0.2852\n",
      "Epoch 8/50\n",
      "109/109 [==============================] - 3s 24ms/step - loss: 2.7706 - accuracy: 0.3203\n",
      "Epoch 9/50\n",
      "109/109 [==============================] - 3s 25ms/step - loss: 2.4731 - accuracy: 0.3620\n",
      "Epoch 10/50\n",
      "109/109 [==============================] - 3s 24ms/step - loss: 2.1481 - accuracy: 0.4066\n",
      "Epoch 11/50\n",
      "109/109 [==============================] - 3s 25ms/step - loss: 1.8061 - accuracy: 0.4571\n",
      "Epoch 12/50\n",
      "109/109 [==============================] - 3s 24ms/step - loss: 1.4614 - accuracy: 0.5115\n",
      "Epoch 13/50\n",
      "109/109 [==============================] - 3s 24ms/step - loss: 1.1325 - accuracy: 0.5695\n",
      "Epoch 14/50\n",
      "109/109 [==============================] - 3s 24ms/step - loss: 0.8265 - accuracy: 0.6212\n",
      "Epoch 15/50\n",
      "109/109 [==============================] - 3s 25ms/step - loss: 0.5670 - accuracy: 0.6619\n",
      "Epoch 16/50\n",
      "109/109 [==============================] - 3s 25ms/step - loss: 0.3567 - accuracy: 0.6920\n",
      "Epoch 17/50\n",
      "109/109 [==============================] - 3s 25ms/step - loss: 0.2125 - accuracy: 0.7078\n",
      "Epoch 18/50\n",
      "109/109 [==============================] - 3s 24ms/step - loss: 0.1237 - accuracy: 0.7120\n",
      "Epoch 19/50\n",
      "109/109 [==============================] - 3s 24ms/step - loss: 0.0792 - accuracy: 0.7127\n",
      "Epoch 20/50\n",
      "109/109 [==============================] - 3s 24ms/step - loss: 0.0621 - accuracy: 0.7124\n",
      "Epoch 21/50\n",
      "109/109 [==============================] - 3s 24ms/step - loss: 0.0460 - accuracy: 0.7129\n",
      "Epoch 22/50\n",
      "109/109 [==============================] - 3s 24ms/step - loss: 0.0475 - accuracy: 0.7121\n",
      "Epoch 23/50\n",
      "109/109 [==============================] - 3s 24ms/step - loss: 0.0491 - accuracy: 0.7105\n",
      "Epoch 24/50\n",
      "109/109 [==============================] - 3s 25ms/step - loss: 0.0439 - accuracy: 0.7109\n",
      "Epoch 25/50\n",
      "109/109 [==============================] - 3s 24ms/step - loss: 0.0432 - accuracy: 0.7106\n",
      "Epoch 26/50\n",
      "109/109 [==============================] - 3s 24ms/step - loss: 0.0433 - accuracy: 0.7106\n",
      "Epoch 27/50\n",
      "109/109 [==============================] - 3s 24ms/step - loss: 0.0411 - accuracy: 0.7108\n",
      "Epoch 28/50\n",
      "109/109 [==============================] - 3s 25ms/step - loss: 0.0414 - accuracy: 0.7101\n",
      "Epoch 29/50\n",
      "109/109 [==============================] - 3s 25ms/step - loss: 0.0450 - accuracy: 0.7095\n",
      "Epoch 30/50\n",
      "109/109 [==============================] - 3s 25ms/step - loss: 0.0427 - accuracy: 0.7100\n",
      "Epoch 31/50\n",
      "109/109 [==============================] - 3s 25ms/step - loss: 0.0457 - accuracy: 0.7090\n",
      "Epoch 32/50\n",
      "109/109 [==============================] - 3s 24ms/step - loss: 0.0376 - accuracy: 0.7106\n",
      "Epoch 33/50\n",
      "109/109 [==============================] - 3s 24ms/step - loss: 0.0444 - accuracy: 0.7096\n",
      "Epoch 34/50\n",
      "109/109 [==============================] - 3s 25ms/step - loss: 0.0502 - accuracy: 0.7079\n",
      "Epoch 35/50\n",
      "109/109 [==============================] - 3s 24ms/step - loss: 0.0460 - accuracy: 0.7087\n",
      "Epoch 36/50\n",
      "109/109 [==============================] - 3s 24ms/step - loss: 0.0402 - accuracy: 0.7101\n",
      "Epoch 37/50\n",
      "109/109 [==============================] - 3s 24ms/step - loss: 0.0427 - accuracy: 0.7097\n",
      "Epoch 38/50\n",
      "109/109 [==============================] - 3s 25ms/step - loss: 0.0436 - accuracy: 0.7090\n",
      "Epoch 39/50\n",
      "109/109 [==============================] - 3s 24ms/step - loss: 0.0409 - accuracy: 0.7097\n",
      "Epoch 40/50\n",
      "109/109 [==============================] - 3s 24ms/step - loss: 0.0375 - accuracy: 0.7104\n",
      "Epoch 41/50\n",
      "109/109 [==============================] - 3s 25ms/step - loss: 0.0330 - accuracy: 0.7114\n",
      "Epoch 42/50\n",
      "109/109 [==============================] - 3s 24ms/step - loss: 0.0350 - accuracy: 0.7107\n",
      "Epoch 43/50\n",
      "109/109 [==============================] - 3s 24ms/step - loss: 0.0322 - accuracy: 0.7115\n",
      "Epoch 44/50\n",
      "109/109 [==============================] - 3s 24ms/step - loss: 0.0288 - accuracy: 0.7123\n",
      "Epoch 45/50\n",
      "109/109 [==============================] - 3s 25ms/step - loss: 0.0259 - accuracy: 0.7126\n",
      "Epoch 46/50\n",
      "109/109 [==============================] - 3s 24ms/step - loss: 0.0228 - accuracy: 0.7133\n",
      "Epoch 47/50\n",
      "109/109 [==============================] - 3s 24ms/step - loss: 0.0236 - accuracy: 0.7135\n",
      "Epoch 48/50\n",
      "109/109 [==============================] - 3s 24ms/step - loss: 0.0219 - accuracy: 0.7139\n",
      "Epoch 49/50\n",
      "109/109 [==============================] - 3s 24ms/step - loss: 0.0219 - accuracy: 0.7137\n",
      "Epoch 50/50\n",
      "109/109 [==============================] - 3s 24ms/step - loss: 0.0221 - accuracy: 0.7137\n"
     ]
    }
   ],
   "source": [
    "EPOCHS = 50\n",
    "history = model.fit(dataset, epochs=EPOCHS, verbose=1)"
   ]
  },
  {
   "cell_type": "markdown",
   "id": "8555ba3d",
   "metadata": {},
   "source": [
    "### 4-11. 훈련결과 시각화"
   ]
  },
  {
   "cell_type": "code",
   "execution_count": 33,
   "id": "2534c5ca",
   "metadata": {},
   "outputs": [
    {
     "data": {
      "image/png": "[encoded data removed]",
      "text/plain": [
       "<Figure size 432x288 with 1 Axes>"
      ]
     },
     "metadata": {
      "needs_background": "light"
     },
     "output_type": "display_data"
    }
   ],
   "source": [
    "plt.plot(history.history['accuracy'], 'r')\n",
    "plt.title('Model accuracy')\n",
    "plt.ylabel('Accuracy')\n",
    "plt.xlabel('Epoch')\n",
    "plt.show()"
   ]
  },
  {
   "cell_type": "markdown",
   "id": "d9bb2a63",
   "metadata": {},
   "source": [
    "## Step 5. 모델 평가하기"
   ]
  },
  {
   "cell_type": "code",
   "execution_count": 34,
   "id": "b4f5287c",
   "metadata": {},
   "outputs": [],
   "source": [
    "def decoder_inference(sentence):\n",
    "    sentence = preprocess_sentence(sentence)\n",
    "\n",
    "    # 입력된 문장을 정수 인코딩 후, 시작 토큰과 종료 토큰을 앞뒤로 추가.\n",
    "    # ex) Where have you been? → [[8331   86   30    5 1059    7 8332]]\n",
    "    sentence = tf.expand_dims(\n",
    "        START_TOKEN + tokenizer.encode(sentence) + END_TOKEN, axis=0)\n",
    "\n",
    "    # 디코더의 현재까지의 예측한 출력 시퀀스가 지속적으로 저장되는 변수.\n",
    "    # 처음에는 예측한 내용이 없음으로 시작 토큰만 별도 저장. ex) 8331\n",
    "    output_sequence = tf.expand_dims(START_TOKEN, 0)\n",
    "\n",
    "    # 디코더의 인퍼런스 단계\n",
    "    for i in range(MAX_LENGTH):\n",
    "        # 디코더는 최대 MAX_LENGTH의 길이만큼 다음 단어 예측을 반복합니다.\n",
    "        predictions = model(inputs=[sentence, output_sequence], training=False)\n",
    "        predictions = predictions[:, -1:, :]\n",
    "\n",
    "        # 현재 예측한 단어의 정수\n",
    "        predicted_id = tf.cast(tf.argmax(predictions, axis=-1), tf.int32)\n",
    "\n",
    "        # 만약 현재 예측한 단어가 종료 토큰이라면 for문을 종료\n",
    "        if tf.equal(predicted_id, END_TOKEN[0]):\n",
    "            break\n",
    "\n",
    "        # 예측한 단어들은 지속적으로 output_sequence에 추가됩니다.\n",
    "        # 이 output_sequence는 다시 디코더의 입력이 됩니다.\n",
    "        output_sequence = tf.concat([output_sequence, predicted_id], axis=-1)\n",
    "\n",
    "    return tf.squeeze(output_sequence, axis=0)"
   ]
  },
  {
   "cell_type": "code",
   "execution_count": 35,
   "id": "988c65dc",
   "metadata": {},
   "outputs": [],
   "source": [
    "def sentence_generation(sentence):\n",
    "    # 입력 문장에 대해서 디코더를 동작 시켜 예측된 정수 시퀀스를 리턴받습니다.\n",
    "    prediction = decoder_inference(sentence)\n",
    "\n",
    "    # 정수 시퀀스를 다시 텍스트 시퀀스로 변환합니다.\n",
    "    predicted_sentence = tokenizer.decode(\n",
    "        [i for i in prediction if i < tokenizer.vocab_size])\n",
    "\n",
    "    return predicted_sentence"
   ]
  },
  {
   "cell_type": "code",
   "execution_count": 36,
   "id": "a5f50f64",
   "metadata": {},
   "outputs": [
    {
     "name": "stdout",
     "output_type": "stream",
     "text": [
      "-------------------------\n",
      "질문 입력 : 일이 익숙해 지지 않네\n",
      "정답 출력 : 조금만 더 힘내세요.\n",
      "예측 출력 : 조금만 더 힘내세요.\n",
      "-------------------------\n",
      "질문 입력 : 자꾸 거짓말 하게 되네\n",
      "정답 출력 : 진실된 말을 하려고 노력해보세요.\n",
      "예측 출력 : 선의의 거짓말이길 바라요.\n",
      "-------------------------\n",
      "질문 입력 : 버려줘서 고마워.\n",
      "정답 출력 : 당신이 버렸다고 생각하는 건 어떨까요.\n",
      "예측 출력 : 쉽지 않을 결정이었을 텐데.\n",
      "-------------------------\n",
      "질문 입력 : 옷장이 점점 줄어들어\n",
      "정답 출력 : 지난 계절 옷을 잘 정리해 보세요.\n",
      "예측 출력 : 큰일이네요.\n",
      "-------------------------\n",
      "질문 입력 : 안주 추천 좀\n",
      "정답 출력 : 살 안 찌는 게 좋을 것 같아요.\n",
      "예측 출력 : 힘들겠어요.\n",
      "-------------------------\n",
      "질문 입력 : 스타트업에 가도 될까?\n",
      "정답 출력 : 모 아니면 도예요.\n",
      "예측 출력 : 직접적이든 간접적이든 의사를 확실히 밝혀보세요.\n",
      "-------------------------\n",
      "질문 입력 : 사랑은 영원해?\n",
      "정답 출력 : 사랑은 한 순간이면서 영원한거 같아요.\n",
      "예측 출력 : 믿으면 이루어져요.\n",
      "-------------------------\n",
      "질문 입력 : 술 많이 마셔야지\n",
      "정답 출력 : 적당히 드세요.\n",
      "예측 출력 : 저랑 한 잔 해요.\n",
      "-------------------------\n",
      "질문 입력 : 셀프웨딩이 유행이래\n",
      "정답 출력 : 혼자 준비하기는 조금 벅찰텐대요.\n",
      "예측 출력 : 쉽지 않을거예요.\n",
      "-------------------------\n",
      "질문 입력 : 서류에서 떨어지다니\n",
      "정답 출력 : 합격하는 곳이 있을 거예요.\n",
      "예측 출력 : 될 거예요.\n"
     ]
    }
   ],
   "source": [
    "for i in range(200, 210):\n",
    "    print('-'*25)\n",
    "    print('질문 입력 : {}'.format(test_Q[i]))\n",
    "    print('정답 출력 : {}'.format(test_A[i]))\n",
    "    print('예측 출력 : {}'.format(sentence_generation(test_Q[i])))"
   ]
  },
  {
   "cell_type": "markdown",
   "id": "0b81dcbd",
   "metadata": {},
   "source": [
    "#### 10,640개의 샘플로 3분정도 훈련한 결과치곤 제법 맥락에 맞는 답을 생성하였다. \n",
    "#### 정답으로 제시된 답변과 다르더라도 오히려 더 좋은 답변도 있다."
   ]
  },
  {
   "cell_type": "markdown",
   "id": "0cfc2cce",
   "metadata": {},
   "source": [
    "## 회고\n",
    "### 이번 프로젝트에서 어려웠던 점\n",
    "\n",
    "Transformer 모델/Attention의 개념은 교재만 읽고는 이해하기가 어렵다. \n",
    "\n",
    "### 프로젝트를 진행하면서 알아낸 점 혹은 아직 모호한 점\n",
    "\n",
    "그 유명한 BERT도 Transformer 모델을 활용하여 사전학습을 적용했다는 사실에 Transformer 모델의 우수성을 알게 되었다.\n",
    "\n",
    "### 루브릭 평가 지표를 맞추기 위해 시도한 것들\n",
    "\n",
    "1. 최대 문장길이를 boxplot을 이용하여 적용했다. Accuracy 향상에 많은 기여를 하였다.\n",
    "2. Hyperparameter인 NUM_LAYERS, D_MODEL, NUM_HEADS, UNITS, DROPOUT등을 다양한 조합으로 바꾸어 보았다.\n",
    "\n",
    "### 만약에 루브릭 평가 관련 지표를 달성 하지 못했을 때, 이유에 관한 추정\n",
    "\n",
    "충분히 달성했다고 생각된다.\n",
    "\n",
    "### 자기 다짐\n",
    "\n",
    "Transformer 모델/Attention의 개념에 대하여 좀 더 공부해야 하겠다."
   ]
  },
  {
   "cell_type": "code",
   "execution_count": null,
   "id": "c4674fea",
   "metadata": {},
   "outputs": [],
   "source": []
  }
 ],
 "metadata": {
  "kernelspec": {
   "display_name": "Python 3 (ipykernel)",
   "language": "python",
   "name": "python3"
  },
  "language_info": {
   "codemirror_mode": {
    "name": "ipython",
    "version": 3
   },
   "file_extension": ".py",
   "mimetype": "text/x-python",
   "name": "python",
   "nbconvert_exporter": "python",
   "pygments_lexer": "ipython3",
   "version": "3.9.7"
  }
 },
 "nbformat": 4,
 "nbformat_minor": 5
}
